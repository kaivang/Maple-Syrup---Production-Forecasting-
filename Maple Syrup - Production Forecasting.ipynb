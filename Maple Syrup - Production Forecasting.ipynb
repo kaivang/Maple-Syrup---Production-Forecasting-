{
 "cells": [
  {
   "cell_type": "code",
   "execution_count": 1,
   "id": "dbb03b0e",
   "metadata": {},
   "outputs": [],
   "source": [
    "import numpy as np\n",
    "import pandas as pd\n",
    "import statsmodels.api as sm\n",
    "import matplotlib.pyplot as plt\n",
    "from statsmodels.tsa.statespace.varmax import VARMAX\n",
    "from statsmodels.tsa.api import VAR\n",
    "from sklearn.metrics import r2_score\n",
    "#from hana_ml.algorithms.pal.tsa.vector_arima import VectorARIMA"
   ]
  },
  {
   "cell_type": "code",
   "execution_count": 2,
   "id": "79b7b02f",
   "metadata": {},
   "outputs": [],
   "source": [
    "Daily_Precp = pd.read_csv('Daily Precipitation.csv')\n",
    "Daily_Soil_Mosit = pd.read_csv('Daily Soil Mositure.csv')\n",
    "Daily_Temp = pd.read_csv('Daily Temperature.csv')\n",
    "Prod_Quant = pd.read_csv('Production Quantity.csv')"
   ]
  },
  {
   "cell_type": "code",
   "execution_count": 3,
   "id": "e29a3a72",
   "metadata": {},
   "outputs": [],
   "source": [
    "Prod_Quant = Prod_Quant.drop('start_date',axis = 1)\n",
    "Prod_Quant['end_date'] = pd.to_datetime(Prod_Quant['end_date']).dt.date"
   ]
  },
  {
   "cell_type": "code",
   "execution_count": 4,
   "id": "fee3e128",
   "metadata": {},
   "outputs": [
    {
     "data": {
      "text/html": [
       "<div>\n",
       "<style scoped>\n",
       "    .dataframe tbody tr th:only-of-type {\n",
       "        vertical-align: middle;\n",
       "    }\n",
       "\n",
       "    .dataframe tbody tr th {\n",
       "        vertical-align: top;\n",
       "    }\n",
       "\n",
       "    .dataframe thead th {\n",
       "        text-align: right;\n",
       "    }\n",
       "</style>\n",
       "<table border=\"1\" class=\"dataframe\">\n",
       "  <thead>\n",
       "    <tr style=\"text-align: right;\">\n",
       "      <th></th>\n",
       "      <th>end_date</th>\n",
       "      <th>prod</th>\n",
       "      <th>region_id</th>\n",
       "    </tr>\n",
       "  </thead>\n",
       "  <tbody>\n",
       "    <tr>\n",
       "      <th>60</th>\n",
       "      <td>2020-01-31</td>\n",
       "      <td>184890</td>\n",
       "      <td>93</td>\n",
       "    </tr>\n",
       "    <tr>\n",
       "      <th>61</th>\n",
       "      <td>2020-02-29</td>\n",
       "      <td>228046</td>\n",
       "      <td>93</td>\n",
       "    </tr>\n",
       "    <tr>\n",
       "      <th>62</th>\n",
       "      <td>2020-03-31</td>\n",
       "      <td>242595</td>\n",
       "      <td>93</td>\n",
       "    </tr>\n",
       "    <tr>\n",
       "      <th>63</th>\n",
       "      <td>2020-04-30</td>\n",
       "      <td>274686</td>\n",
       "      <td>93</td>\n",
       "    </tr>\n",
       "    <tr>\n",
       "      <th>64</th>\n",
       "      <td>2020-05-31</td>\n",
       "      <td>260507</td>\n",
       "      <td>93</td>\n",
       "    </tr>\n",
       "    <tr>\n",
       "      <th>65</th>\n",
       "      <td>2020-06-30</td>\n",
       "      <td>321550</td>\n",
       "      <td>93</td>\n",
       "    </tr>\n",
       "    <tr>\n",
       "      <th>66</th>\n",
       "      <td>2020-07-31</td>\n",
       "      <td>303763</td>\n",
       "      <td>93</td>\n",
       "    </tr>\n",
       "    <tr>\n",
       "      <th>67</th>\n",
       "      <td>2020-08-31</td>\n",
       "      <td>301528</td>\n",
       "      <td>93</td>\n",
       "    </tr>\n",
       "    <tr>\n",
       "      <th>68</th>\n",
       "      <td>2020-09-30</td>\n",
       "      <td>302692</td>\n",
       "      <td>93</td>\n",
       "    </tr>\n",
       "    <tr>\n",
       "      <th>69</th>\n",
       "      <td>2020-10-31</td>\n",
       "      <td>273522</td>\n",
       "      <td>93</td>\n",
       "    </tr>\n",
       "    <tr>\n",
       "      <th>70</th>\n",
       "      <td>2020-11-30</td>\n",
       "      <td>246388</td>\n",
       "      <td>93</td>\n",
       "    </tr>\n",
       "    <tr>\n",
       "      <th>71</th>\n",
       "      <td>2020-12-31</td>\n",
       "      <td>217480</td>\n",
       "      <td>93</td>\n",
       "    </tr>\n",
       "  </tbody>\n",
       "</table>\n",
       "</div>"
      ],
      "text/plain": [
       "     end_date    prod  region_id\n",
       "60 2020-01-31  184890         93\n",
       "61 2020-02-29  228046         93\n",
       "62 2020-03-31  242595         93\n",
       "63 2020-04-30  274686         93\n",
       "64 2020-05-31  260507         93\n",
       "65 2020-06-30  321550         93\n",
       "66 2020-07-31  303763         93\n",
       "67 2020-08-31  301528         93\n",
       "68 2020-09-30  302692         93\n",
       "69 2020-10-31  273522         93\n",
       "70 2020-11-30  246388         93\n",
       "71 2020-12-31  217480         93"
      ]
     },
     "execution_count": 4,
     "metadata": {},
     "output_type": "execute_result"
    }
   ],
   "source": [
    "Prod_Quant['end_date'] =  Prod_Quant['end_date'].astype('datetime64[ns]')\n",
    "Prod_Quant.set_index('end_date')\n",
    "Prod_Quant.iloc[60:72,]"
   ]
  },
  {
   "cell_type": "markdown",
   "id": "ec970d2f",
   "metadata": {},
   "source": [
    "# Daily_Precp end_date is converted into datetime64[ns]"
   ]
  },
  {
   "cell_type": "code",
   "execution_count": 5,
   "id": "5b8c8dd6",
   "metadata": {},
   "outputs": [],
   "source": [
    "Daily_Precp['end_date'] = pd.to_datetime(Daily_Precp['end_date']).dt.date\n",
    "#Daily_Precp['end_date']"
   ]
  },
  {
   "cell_type": "code",
   "execution_count": 6,
   "id": "e494bfbe",
   "metadata": {},
   "outputs": [],
   "source": [
    "Daily_Precp.end_date = pd.to_datetime(Daily_Precp.end_date)"
   ]
  },
  {
   "cell_type": "code",
   "execution_count": 7,
   "id": "1d5e89de",
   "metadata": {},
   "outputs": [],
   "source": [
    "Daily_Precp = Daily_Precp.groupby('region_id').resample('M',on='end_date').mean()"
   ]
  },
  {
   "cell_type": "code",
   "execution_count": 8,
   "id": "408dd35a",
   "metadata": {},
   "outputs": [],
   "source": [
    "Daily_Precp = Daily_Precp.droplevel(level=0)"
   ]
  },
  {
   "cell_type": "code",
   "execution_count": 9,
   "id": "e74e1bbf",
   "metadata": {},
   "outputs": [
    {
     "data": {
      "text/html": [
       "<div>\n",
       "<style scoped>\n",
       "    .dataframe tbody tr th:only-of-type {\n",
       "        vertical-align: middle;\n",
       "    }\n",
       "\n",
       "    .dataframe tbody tr th {\n",
       "        vertical-align: top;\n",
       "    }\n",
       "\n",
       "    .dataframe thead th {\n",
       "        text-align: right;\n",
       "    }\n",
       "</style>\n",
       "<table border=\"1\" class=\"dataframe\">\n",
       "  <thead>\n",
       "    <tr style=\"text-align: right;\">\n",
       "      <th></th>\n",
       "      <th>precip</th>\n",
       "      <th>region_id</th>\n",
       "    </tr>\n",
       "    <tr>\n",
       "      <th>end_date</th>\n",
       "      <th></th>\n",
       "      <th></th>\n",
       "    </tr>\n",
       "  </thead>\n",
       "  <tbody>\n",
       "    <tr>\n",
       "      <th>2015-01-31</th>\n",
       "      <td>4.394452</td>\n",
       "      <td>93</td>\n",
       "    </tr>\n",
       "    <tr>\n",
       "      <th>2015-02-28</th>\n",
       "      <td>1.206137</td>\n",
       "      <td>93</td>\n",
       "    </tr>\n",
       "    <tr>\n",
       "      <th>2015-03-31</th>\n",
       "      <td>3.454652</td>\n",
       "      <td>93</td>\n",
       "    </tr>\n",
       "    <tr>\n",
       "      <th>2015-04-30</th>\n",
       "      <td>10.466472</td>\n",
       "      <td>93</td>\n",
       "    </tr>\n",
       "    <tr>\n",
       "      <th>2015-05-31</th>\n",
       "      <td>9.007986</td>\n",
       "      <td>93</td>\n",
       "    </tr>\n",
       "    <tr>\n",
       "      <th>...</th>\n",
       "      <td>...</td>\n",
       "      <td>...</td>\n",
       "    </tr>\n",
       "    <tr>\n",
       "      <th>2020-08-31</th>\n",
       "      <td>7.635350</td>\n",
       "      <td>105</td>\n",
       "    </tr>\n",
       "    <tr>\n",
       "      <th>2020-09-30</th>\n",
       "      <td>6.852630</td>\n",
       "      <td>105</td>\n",
       "    </tr>\n",
       "    <tr>\n",
       "      <th>2020-10-31</th>\n",
       "      <td>11.276676</td>\n",
       "      <td>105</td>\n",
       "    </tr>\n",
       "    <tr>\n",
       "      <th>2020-11-30</th>\n",
       "      <td>17.676531</td>\n",
       "      <td>105</td>\n",
       "    </tr>\n",
       "    <tr>\n",
       "      <th>2020-12-31</th>\n",
       "      <td>14.751862</td>\n",
       "      <td>105</td>\n",
       "    </tr>\n",
       "  </tbody>\n",
       "</table>\n",
       "<p>720 rows × 2 columns</p>\n",
       "</div>"
      ],
      "text/plain": [
       "               precip  region_id\n",
       "end_date                        \n",
       "2015-01-31   4.394452         93\n",
       "2015-02-28   1.206137         93\n",
       "2015-03-31   3.454652         93\n",
       "2015-04-30  10.466472         93\n",
       "2015-05-31   9.007986         93\n",
       "...               ...        ...\n",
       "2020-08-31   7.635350        105\n",
       "2020-09-30   6.852630        105\n",
       "2020-10-31  11.276676        105\n",
       "2020-11-30  17.676531        105\n",
       "2020-12-31  14.751862        105\n",
       "\n",
       "[720 rows x 2 columns]"
      ]
     },
     "execution_count": 9,
     "metadata": {},
     "output_type": "execute_result"
    }
   ],
   "source": [
    "Daily_Precp = Daily_Precp.loc[(Daily_Precp.index >= '2015-01-31')]\n",
    "Daily_Precp= Daily_Precp.loc[(Daily_Precp.index <= '2020-12-31')]\n",
    "Daily_Precp"
   ]
  },
  {
   "cell_type": "code",
   "execution_count": 10,
   "id": "2a4618b6",
   "metadata": {},
   "outputs": [],
   "source": [
    "Daily_Precp.reset_index(inplace=True)"
   ]
  },
  {
   "cell_type": "code",
   "execution_count": 11,
   "id": "e491874f",
   "metadata": {},
   "outputs": [
    {
     "data": {
      "text/plain": [
       "(720, 3)"
      ]
     },
     "execution_count": 11,
     "metadata": {},
     "output_type": "execute_result"
    }
   ],
   "source": [
    "Daily_Precp.shape"
   ]
  },
  {
   "cell_type": "markdown",
   "id": "8fcf5869",
   "metadata": {},
   "source": [
    "# Daily_Soil_Mosit end_date is converted into datetime64"
   ]
  },
  {
   "cell_type": "code",
   "execution_count": 12,
   "id": "59f209dc",
   "metadata": {},
   "outputs": [],
   "source": [
    "Daily_Soil_Mosit['end_date'] = pd.to_datetime(Daily_Soil_Mosit['end_date']).dt.date\n",
    "#Daily_Precp['end_date']\n",
    "Daily_Soil_Mosit.end_date = pd.to_datetime(Daily_Soil_Mosit.end_date)\n",
    "Daily_Soil_Mosit = Daily_Soil_Mosit.groupby('region_id').resample('M',on='end_date').mean()\n",
    "Daily_Soil_Mosit = Daily_Soil_Mosit.droplevel(level=0)\n",
    "Daily_Soil_Mosit = Daily_Soil_Mosit.loc[(Daily_Soil_Mosit.index >= '2015-01-31')]\n",
    "Daily_Soil_Mosit= Daily_Soil_Mosit.loc[(Daily_Soil_Mosit.index <= '2020-12-31')]"
   ]
  },
  {
   "cell_type": "code",
   "execution_count": 13,
   "id": "66c2b458",
   "metadata": {},
   "outputs": [
    {
     "data": {
      "text/html": [
       "<div>\n",
       "<style scoped>\n",
       "    .dataframe tbody tr th:only-of-type {\n",
       "        vertical-align: middle;\n",
       "    }\n",
       "\n",
       "    .dataframe tbody tr th {\n",
       "        vertical-align: top;\n",
       "    }\n",
       "\n",
       "    .dataframe thead th {\n",
       "        text-align: right;\n",
       "    }\n",
       "</style>\n",
       "<table border=\"1\" class=\"dataframe\">\n",
       "  <thead>\n",
       "    <tr style=\"text-align: right;\">\n",
       "      <th></th>\n",
       "      <th>smos</th>\n",
       "      <th>region_id</th>\n",
       "    </tr>\n",
       "    <tr>\n",
       "      <th>end_date</th>\n",
       "      <th></th>\n",
       "      <th></th>\n",
       "    </tr>\n",
       "  </thead>\n",
       "  <tbody>\n",
       "    <tr>\n",
       "      <th>2015-01-31</th>\n",
       "      <td>0.318552</td>\n",
       "      <td>93</td>\n",
       "    </tr>\n",
       "    <tr>\n",
       "      <th>2015-02-28</th>\n",
       "      <td>0.291452</td>\n",
       "      <td>93</td>\n",
       "    </tr>\n",
       "  </tbody>\n",
       "</table>\n",
       "</div>"
      ],
      "text/plain": [
       "                smos  region_id\n",
       "end_date                       \n",
       "2015-01-31  0.318552         93\n",
       "2015-02-28  0.291452         93"
      ]
     },
     "execution_count": 13,
     "metadata": {},
     "output_type": "execute_result"
    }
   ],
   "source": [
    "Daily_Soil_Mosit.head(2)"
   ]
  },
  {
   "cell_type": "code",
   "execution_count": 14,
   "id": "5e73ae41",
   "metadata": {},
   "outputs": [],
   "source": [
    "Daily_Soil_Mosit.reset_index(inplace=True)"
   ]
  },
  {
   "cell_type": "code",
   "execution_count": 15,
   "id": "b8f26c10",
   "metadata": {},
   "outputs": [
    {
     "data": {
      "text/plain": [
       "(720, 3)"
      ]
     },
     "execution_count": 15,
     "metadata": {},
     "output_type": "execute_result"
    }
   ],
   "source": [
    "Daily_Soil_Mosit.shape"
   ]
  },
  {
   "cell_type": "markdown",
   "id": "664e15f0",
   "metadata": {},
   "source": [
    "# Daily_Temp end_date is converted into datetime64[ns]\n",
    "# We have monthly mean values for 10 regions and for 6 years"
   ]
  },
  {
   "cell_type": "code",
   "execution_count": 16,
   "id": "8095ee4c",
   "metadata": {},
   "outputs": [],
   "source": [
    "Daily_Temp['end_date'] = pd.to_datetime(Daily_Temp['end_date']).dt.date\n",
    "#Daily_Precp['end_date']\n",
    "Daily_Temp.end_date = pd.to_datetime(Daily_Temp.end_date)\n",
    "Daily_Temp = Daily_Temp.groupby('region_id').resample('M',on='end_date').mean()\n",
    "Daily_Temp = Daily_Temp.droplevel(level=0)\n",
    "Daily_Temp = Daily_Temp.loc[(Daily_Temp.index >= '2015-01-31')]\n",
    "Daily_Temp= Daily_Temp.loc[(Daily_Temp.index <= '2020-12-31')]"
   ]
  },
  {
   "cell_type": "code",
   "execution_count": 17,
   "id": "99d16c69",
   "metadata": {},
   "outputs": [],
   "source": [
    "Daily_Temp.reset_index(inplace=True)"
   ]
  },
  {
   "cell_type": "code",
   "execution_count": 18,
   "id": "ccfc56db",
   "metadata": {},
   "outputs": [
    {
     "data": {
      "text/plain": [
       "(720, 3)"
      ]
     },
     "execution_count": 18,
     "metadata": {},
     "output_type": "execute_result"
    }
   ],
   "source": [
    "Daily_Temp.shape"
   ]
  },
  {
   "cell_type": "markdown",
   "id": "e2edfeaa",
   "metadata": {},
   "source": [
    "# Eight_Day_NDVI is converted into datetime64[ns]\n",
    "# We have monthly mean values for Eight_Day_NDVI"
   ]
  },
  {
   "cell_type": "code",
   "execution_count": 19,
   "id": "0cb7ba01",
   "metadata": {},
   "outputs": [],
   "source": [
    "Eight_Day_NDVI = pd.read_csv('Eight Day NDVI.csv')"
   ]
  },
  {
   "cell_type": "code",
   "execution_count": 20,
   "id": "ab81973e",
   "metadata": {},
   "outputs": [],
   "source": [
    "Eight_Day_NDVI['end_date'] = pd.to_datetime(Eight_Day_NDVI['end_date']).dt.date\n",
    "Eight_Day_NDVI.end_date = pd.to_datetime(Eight_Day_NDVI.end_date)"
   ]
  },
  {
   "cell_type": "code",
   "execution_count": 21,
   "id": "656e3246",
   "metadata": {},
   "outputs": [],
   "source": [
    "Eight_Day_NDVI = Eight_Day_NDVI.groupby('region_id').resample('M',on='end_date').mean()"
   ]
  },
  {
   "cell_type": "code",
   "execution_count": 22,
   "id": "65069a36",
   "metadata": {},
   "outputs": [],
   "source": [
    "Eight_Day_NDVI = Eight_Day_NDVI.droplevel(level=0)"
   ]
  },
  {
   "cell_type": "code",
   "execution_count": 23,
   "id": "d32b27ae",
   "metadata": {},
   "outputs": [
    {
     "data": {
      "text/html": [
       "<div>\n",
       "<style scoped>\n",
       "    .dataframe tbody tr th:only-of-type {\n",
       "        vertical-align: middle;\n",
       "    }\n",
       "\n",
       "    .dataframe tbody tr th {\n",
       "        vertical-align: top;\n",
       "    }\n",
       "\n",
       "    .dataframe thead th {\n",
       "        text-align: right;\n",
       "    }\n",
       "</style>\n",
       "<table border=\"1\" class=\"dataframe\">\n",
       "  <thead>\n",
       "    <tr style=\"text-align: right;\">\n",
       "      <th></th>\n",
       "      <th>ndvi</th>\n",
       "      <th>region_id</th>\n",
       "    </tr>\n",
       "    <tr>\n",
       "      <th>end_date</th>\n",
       "      <th></th>\n",
       "      <th></th>\n",
       "    </tr>\n",
       "  </thead>\n",
       "  <tbody>\n",
       "    <tr>\n",
       "      <th>2014-01-31</th>\n",
       "      <td>0.718269</td>\n",
       "      <td>93.0</td>\n",
       "    </tr>\n",
       "    <tr>\n",
       "      <th>2014-02-28</th>\n",
       "      <td>0.767647</td>\n",
       "      <td>93.0</td>\n",
       "    </tr>\n",
       "    <tr>\n",
       "      <th>2014-03-31</th>\n",
       "      <td>0.743301</td>\n",
       "      <td>93.0</td>\n",
       "    </tr>\n",
       "    <tr>\n",
       "      <th>2014-04-30</th>\n",
       "      <td>0.807792</td>\n",
       "      <td>93.0</td>\n",
       "    </tr>\n",
       "    <tr>\n",
       "      <th>2014-05-31</th>\n",
       "      <td>0.813410</td>\n",
       "      <td>93.0</td>\n",
       "    </tr>\n",
       "    <tr>\n",
       "      <th>...</th>\n",
       "      <td>...</td>\n",
       "      <td>...</td>\n",
       "    </tr>\n",
       "    <tr>\n",
       "      <th>2021-11-30</th>\n",
       "      <td>0.798444</td>\n",
       "      <td>105.0</td>\n",
       "    </tr>\n",
       "    <tr>\n",
       "      <th>2021-12-31</th>\n",
       "      <td>0.811967</td>\n",
       "      <td>105.0</td>\n",
       "    </tr>\n",
       "    <tr>\n",
       "      <th>2022-01-31</th>\n",
       "      <td>0.804896</td>\n",
       "      <td>105.0</td>\n",
       "    </tr>\n",
       "    <tr>\n",
       "      <th>2022-02-28</th>\n",
       "      <td>0.790585</td>\n",
       "      <td>105.0</td>\n",
       "    </tr>\n",
       "    <tr>\n",
       "      <th>2022-03-31</th>\n",
       "      <td>0.795875</td>\n",
       "      <td>105.0</td>\n",
       "    </tr>\n",
       "  </tbody>\n",
       "</table>\n",
       "<p>990 rows × 2 columns</p>\n",
       "</div>"
      ],
      "text/plain": [
       "                ndvi  region_id\n",
       "end_date                       \n",
       "2014-01-31  0.718269       93.0\n",
       "2014-02-28  0.767647       93.0\n",
       "2014-03-31  0.743301       93.0\n",
       "2014-04-30  0.807792       93.0\n",
       "2014-05-31  0.813410       93.0\n",
       "...              ...        ...\n",
       "2021-11-30  0.798444      105.0\n",
       "2021-12-31  0.811967      105.0\n",
       "2022-01-31  0.804896      105.0\n",
       "2022-02-28  0.790585      105.0\n",
       "2022-03-31  0.795875      105.0\n",
       "\n",
       "[990 rows x 2 columns]"
      ]
     },
     "execution_count": 23,
     "metadata": {},
     "output_type": "execute_result"
    }
   ],
   "source": [
    "Eight_Day_NDVI"
   ]
  },
  {
   "cell_type": "code",
   "execution_count": 24,
   "id": "038b190a",
   "metadata": {},
   "outputs": [],
   "source": [
    "Eight_Day_NDVI = Eight_Day_NDVI.loc[(Eight_Day_NDVI.index > '2015')]\n",
    "Eight_Day_NDVI= Eight_Day_NDVI.loc[(Eight_Day_NDVI.index <  '2021')]"
   ]
  },
  {
   "cell_type": "code",
   "execution_count": 25,
   "id": "ac43b4c5",
   "metadata": {},
   "outputs": [],
   "source": [
    "Eight_Day_NDVI.reset_index(inplace=True)"
   ]
  },
  {
   "cell_type": "code",
   "execution_count": 26,
   "id": "b768429e",
   "metadata": {},
   "outputs": [
    {
     "data": {
      "text/plain": [
       "(720, 3)"
      ]
     },
     "execution_count": 26,
     "metadata": {},
     "output_type": "execute_result"
    }
   ],
   "source": [
    "Eight_Day_NDVI.shape"
   ]
  },
  {
   "cell_type": "markdown",
   "id": "ee6ca891",
   "metadata": {},
   "source": [
    "# Merging dataframe"
   ]
  },
  {
   "cell_type": "code",
   "execution_count": 27,
   "id": "fd9b1891",
   "metadata": {},
   "outputs": [
    {
     "data": {
      "text/plain": [
       "(720, 3)"
      ]
     },
     "execution_count": 27,
     "metadata": {},
     "output_type": "execute_result"
    }
   ],
   "source": [
    "Prod_Quant.shape"
   ]
  },
  {
   "cell_type": "code",
   "execution_count": 28,
   "id": "d60b5191",
   "metadata": {},
   "outputs": [
    {
     "data": {
      "text/html": [
       "<div>\n",
       "<style scoped>\n",
       "    .dataframe tbody tr th:only-of-type {\n",
       "        vertical-align: middle;\n",
       "    }\n",
       "\n",
       "    .dataframe tbody tr th {\n",
       "        vertical-align: top;\n",
       "    }\n",
       "\n",
       "    .dataframe thead th {\n",
       "        text-align: right;\n",
       "    }\n",
       "</style>\n",
       "<table border=\"1\" class=\"dataframe\">\n",
       "  <thead>\n",
       "    <tr style=\"text-align: right;\">\n",
       "      <th></th>\n",
       "      <th>end_date</th>\n",
       "      <th>precip</th>\n",
       "      <th>region_id</th>\n",
       "    </tr>\n",
       "  </thead>\n",
       "  <tbody>\n",
       "  </tbody>\n",
       "</table>\n",
       "</div>"
      ],
      "text/plain": [
       "Empty DataFrame\n",
       "Columns: [end_date, precip, region_id]\n",
       "Index: []"
      ]
     },
     "execution_count": 28,
     "metadata": {},
     "output_type": "execute_result"
    }
   ],
   "source": [
    "Daily_Precp[~Daily_Precp.end_date.isin(Prod_Quant.end_date)]"
   ]
  },
  {
   "cell_type": "code",
   "execution_count": 29,
   "id": "f35025ba",
   "metadata": {},
   "outputs": [
    {
     "data": {
      "text/plain": [
       "True"
      ]
     },
     "execution_count": 29,
     "metadata": {},
     "output_type": "execute_result"
    }
   ],
   "source": [
    "Daily_Precp['end_date'].equals(Prod_Quant['end_date'])"
   ]
  },
  {
   "cell_type": "code",
   "execution_count": 30,
   "id": "eade3545",
   "metadata": {},
   "outputs": [],
   "source": [
    "new_df1 = pd.merge(Daily_Precp, Eight_Day_NDVI,  how='left', left_on=['end_date','region_id'], right_on = ['end_date','region_id'])"
   ]
  },
  {
   "cell_type": "code",
   "execution_count": 31,
   "id": "e75894d0",
   "metadata": {},
   "outputs": [],
   "source": [
    "new_df2 = pd.merge(Daily_Soil_Mosit, Daily_Temp,  how='left', left_on=['end_date','region_id'], right_on = ['end_date','region_id'])"
   ]
  },
  {
   "cell_type": "code",
   "execution_count": 32,
   "id": "0d84cc8d",
   "metadata": {},
   "outputs": [],
   "source": [
    "new_df3 = pd.merge(new_df1, new_df2,  how='left', left_on=['end_date','region_id'], right_on = ['end_date','region_id'])"
   ]
  },
  {
   "cell_type": "code",
   "execution_count": 33,
   "id": "19bc633f",
   "metadata": {},
   "outputs": [
    {
     "data": {
      "text/plain": [
       "(720, 6)"
      ]
     },
     "execution_count": 33,
     "metadata": {},
     "output_type": "execute_result"
    }
   ],
   "source": [
    "new_df3.shape"
   ]
  },
  {
   "cell_type": "code",
   "execution_count": 34,
   "id": "c4671001",
   "metadata": {},
   "outputs": [],
   "source": [
    "new_df4 = pd.merge(new_df3, Prod_Quant,  how='left', left_on=['end_date','region_id'], right_on = ['end_date','region_id'])"
   ]
  },
  {
   "cell_type": "code",
   "execution_count": 35,
   "id": "dc403bc7",
   "metadata": {},
   "outputs": [
    {
     "data": {
      "text/plain": [
       "end_date     0\n",
       "precip       0\n",
       "region_id    0\n",
       "ndvi         7\n",
       "smos         0\n",
       "temp         0\n",
       "prod         0\n",
       "dtype: int64"
      ]
     },
     "execution_count": 35,
     "metadata": {},
     "output_type": "execute_result"
    }
   ],
   "source": [
    " new_df4.isnull().sum()"
   ]
  },
  {
   "cell_type": "code",
   "execution_count": 36,
   "id": "74528f14",
   "metadata": {},
   "outputs": [],
   "source": [
    "new_df4.set_index('end_date', inplace=True)"
   ]
  },
  {
   "cell_type": "code",
   "execution_count": 37,
   "id": "1703e374",
   "metadata": {},
   "outputs": [
    {
     "data": {
      "text/html": [
       "<div>\n",
       "<style scoped>\n",
       "    .dataframe tbody tr th:only-of-type {\n",
       "        vertical-align: middle;\n",
       "    }\n",
       "\n",
       "    .dataframe tbody tr th {\n",
       "        vertical-align: top;\n",
       "    }\n",
       "\n",
       "    .dataframe thead th {\n",
       "        text-align: right;\n",
       "    }\n",
       "</style>\n",
       "<table border=\"1\" class=\"dataframe\">\n",
       "  <thead>\n",
       "    <tr style=\"text-align: right;\">\n",
       "      <th></th>\n",
       "      <th>precip</th>\n",
       "      <th>region_id</th>\n",
       "      <th>ndvi</th>\n",
       "      <th>smos</th>\n",
       "      <th>temp</th>\n",
       "      <th>prod</th>\n",
       "    </tr>\n",
       "    <tr>\n",
       "      <th>end_date</th>\n",
       "      <th></th>\n",
       "      <th></th>\n",
       "      <th></th>\n",
       "      <th></th>\n",
       "      <th></th>\n",
       "      <th></th>\n",
       "    </tr>\n",
       "  </thead>\n",
       "  <tbody>\n",
       "    <tr>\n",
       "      <th>2015-01-31</th>\n",
       "      <td>1.444303</td>\n",
       "      <td>94</td>\n",
       "      <td>0.782787</td>\n",
       "      <td>0.268754</td>\n",
       "      <td>26.559232</td>\n",
       "      <td>15066</td>\n",
       "    </tr>\n",
       "    <tr>\n",
       "      <th>2015-02-28</th>\n",
       "      <td>2.235412</td>\n",
       "      <td>94</td>\n",
       "      <td>0.700457</td>\n",
       "      <td>0.250164</td>\n",
       "      <td>29.142522</td>\n",
       "      <td>20527</td>\n",
       "    </tr>\n",
       "    <tr>\n",
       "      <th>2015-03-31</th>\n",
       "      <td>2.872151</td>\n",
       "      <td>94</td>\n",
       "      <td>0.700407</td>\n",
       "      <td>0.223470</td>\n",
       "      <td>29.612283</td>\n",
       "      <td>31839</td>\n",
       "    </tr>\n",
       "    <tr>\n",
       "      <th>2015-04-30</th>\n",
       "      <td>11.580010</td>\n",
       "      <td>94</td>\n",
       "      <td>0.723666</td>\n",
       "      <td>0.294180</td>\n",
       "      <td>27.654164</td>\n",
       "      <td>33341</td>\n",
       "    </tr>\n",
       "    <tr>\n",
       "      <th>2015-05-31</th>\n",
       "      <td>10.652136</td>\n",
       "      <td>94</td>\n",
       "      <td>0.773010</td>\n",
       "      <td>0.320435</td>\n",
       "      <td>26.173197</td>\n",
       "      <td>35627</td>\n",
       "    </tr>\n",
       "    <tr>\n",
       "      <th>...</th>\n",
       "      <td>...</td>\n",
       "      <td>...</td>\n",
       "      <td>...</td>\n",
       "      <td>...</td>\n",
       "      <td>...</td>\n",
       "      <td>...</td>\n",
       "    </tr>\n",
       "    <tr>\n",
       "      <th>2020-08-31</th>\n",
       "      <td>6.469287</td>\n",
       "      <td>94</td>\n",
       "      <td>0.819262</td>\n",
       "      <td>0.290101</td>\n",
       "      <td>27.710981</td>\n",
       "      <td>17199</td>\n",
       "    </tr>\n",
       "    <tr>\n",
       "      <th>2020-09-30</th>\n",
       "      <td>12.576505</td>\n",
       "      <td>94</td>\n",
       "      <td>0.810091</td>\n",
       "      <td>0.329871</td>\n",
       "      <td>26.779885</td>\n",
       "      <td>16695</td>\n",
       "    </tr>\n",
       "    <tr>\n",
       "      <th>2020-10-31</th>\n",
       "      <td>7.865374</td>\n",
       "      <td>94</td>\n",
       "      <td>0.797045</td>\n",
       "      <td>0.407462</td>\n",
       "      <td>26.969045</td>\n",
       "      <td>13235</td>\n",
       "    </tr>\n",
       "    <tr>\n",
       "      <th>2020-11-30</th>\n",
       "      <td>10.435699</td>\n",
       "      <td>94</td>\n",
       "      <td>0.810563</td>\n",
       "      <td>0.426760</td>\n",
       "      <td>25.350495</td>\n",
       "      <td>10215</td>\n",
       "    </tr>\n",
       "    <tr>\n",
       "      <th>2020-12-31</th>\n",
       "      <td>7.032845</td>\n",
       "      <td>94</td>\n",
       "      <td>0.799286</td>\n",
       "      <td>0.361331</td>\n",
       "      <td>25.381922</td>\n",
       "      <td>10714</td>\n",
       "    </tr>\n",
       "  </tbody>\n",
       "</table>\n",
       "<p>72 rows × 6 columns</p>\n",
       "</div>"
      ],
      "text/plain": [
       "               precip  region_id      ndvi      smos       temp   prod\n",
       "end_date                                                              \n",
       "2015-01-31   1.444303         94  0.782787  0.268754  26.559232  15066\n",
       "2015-02-28   2.235412         94  0.700457  0.250164  29.142522  20527\n",
       "2015-03-31   2.872151         94  0.700407  0.223470  29.612283  31839\n",
       "2015-04-30  11.580010         94  0.723666  0.294180  27.654164  33341\n",
       "2015-05-31  10.652136         94  0.773010  0.320435  26.173197  35627\n",
       "...               ...        ...       ...       ...        ...    ...\n",
       "2020-08-31   6.469287         94  0.819262  0.290101  27.710981  17199\n",
       "2020-09-30  12.576505         94  0.810091  0.329871  26.779885  16695\n",
       "2020-10-31   7.865374         94  0.797045  0.407462  26.969045  13235\n",
       "2020-11-30  10.435699         94  0.810563  0.426760  25.350495  10215\n",
       "2020-12-31   7.032845         94  0.799286  0.361331  25.381922  10714\n",
       "\n",
       "[72 rows x 6 columns]"
      ]
     },
     "execution_count": 37,
     "metadata": {},
     "output_type": "execute_result"
    }
   ],
   "source": [
    "new_df4[72:144]"
   ]
  },
  {
   "cell_type": "code",
   "execution_count": 38,
   "id": "488816d3",
   "metadata": {},
   "outputs": [
    {
     "data": {
      "text/plain": [
       "0.799806239007302"
      ]
     },
     "execution_count": 38,
     "metadata": {},
     "output_type": "execute_result"
    }
   ],
   "source": [
    "mean_value=new_df4['ndvi'].mean()\n",
    "mean_value"
   ]
  },
  {
   "cell_type": "code",
   "execution_count": 39,
   "id": "bfc10093",
   "metadata": {},
   "outputs": [],
   "source": [
    "new_df4['ndvi'].fillna(value=new_df4['ndvi'].mean(), inplace=True)"
   ]
  },
  {
   "cell_type": "code",
   "execution_count": 40,
   "id": "cd072293",
   "metadata": {},
   "outputs": [
    {
     "data": {
      "text/plain": [
       "precip       0\n",
       "region_id    0\n",
       "ndvi         0\n",
       "smos         0\n",
       "temp         0\n",
       "prod         0\n",
       "dtype: int64"
      ]
     },
     "execution_count": 40,
     "metadata": {},
     "output_type": "execute_result"
    }
   ],
   "source": [
    "new_df4.isnull().sum()"
   ]
  },
  {
   "cell_type": "code",
   "execution_count": 41,
   "id": "b1ec5800",
   "metadata": {},
   "outputs": [
    {
     "data": {
      "text/plain": [
       "array([ 93,  94,  95,  97,  98,  99, 102, 103, 104, 105], dtype=int64)"
      ]
     },
     "execution_count": 41,
     "metadata": {},
     "output_type": "execute_result"
    }
   ],
   "source": [
    "new_df4['region_id'].unique()"
   ]
  },
  {
   "cell_type": "markdown",
   "id": "bb8f3c01",
   "metadata": {},
   "source": [
    "# ARIMA MODEL\n",
    "# ID = 93 and model is  evaluated using MAPE and R2"
   ]
  },
  {
   "cell_type": "code",
   "execution_count": 42,
   "id": "0a6da223",
   "metadata": {},
   "outputs": [],
   "source": [
    "var = new_df4[0:72]\n",
    "var = var.drop(columns=['region_id'])"
   ]
  },
  {
   "cell_type": "code",
   "execution_count": 43,
   "id": "469fc552",
   "metadata": {},
   "outputs": [],
   "source": [
    "X = var.values"
   ]
  },
  {
   "cell_type": "code",
   "execution_count": 44,
   "id": "cf79960f",
   "metadata": {},
   "outputs": [],
   "source": [
    "size = int(len(X) * 0.84)\n",
    "train, test = X[0:size], X[size:len(X)]"
   ]
  },
  {
   "cell_type": "code",
   "execution_count": 45,
   "id": "b412f537",
   "metadata": {},
   "outputs": [],
   "source": [
    "history = [x for x in train]\n",
    "predictions = list()"
   ]
  },
  {
   "cell_type": "code",
   "execution_count": 46,
   "id": "bd1b24c8",
   "metadata": {},
   "outputs": [],
   "source": [
    "model = VAR(train)"
   ]
  },
  {
   "cell_type": "code",
   "execution_count": 47,
   "id": "5eca91c4",
   "metadata": {},
   "outputs": [
    {
     "data": {
      "text/plain": [
       "(12, 5)"
      ]
     },
     "execution_count": 47,
     "metadata": {},
     "output_type": "execute_result"
    }
   ],
   "source": [
    "test.shape"
   ]
  },
  {
   "cell_type": "code",
   "execution_count": 48,
   "id": "80e7cb14",
   "metadata": {},
   "outputs": [
    {
     "name": "stdout",
     "output_type": "stream",
     "text": [
      "Order = 1\n",
      "AIC:  7.1919499553550965\n",
      "BIC:  8.24832492683258\n",
      "\n",
      "Order = 2\n",
      "AIC:  7.338265865112115\n",
      "BIC:  9.292134237181996\n",
      "\n",
      "Order = 3\n",
      "AIC:  7.539079874288996\n",
      "BIC:  10.406520250197136\n",
      "\n",
      "Order = 4\n",
      "AIC:  7.1838091322951705\n",
      "BIC:  10.981343552423578\n",
      "\n",
      "Order = 5\n",
      "AIC:  7.103930247677027\n",
      "BIC:  11.848535958226504\n",
      "\n",
      "Order = 6\n",
      "AIC:  6.181170786894732\n",
      "BIC:  11.890291661292189\n",
      "\n",
      "Order = 7\n",
      "AIC:  6.319593055122545\n",
      "BIC:  13.011150497375036\n",
      "\n",
      "Order = 8\n",
      "AIC:  4.762676804892868\n",
      "BIC:  12.455079926223496\n",
      "\n",
      "Order = 9\n",
      "AIC:  -7.415330733385279\n",
      "BIC:  1.296824080861679\n",
      "\n",
      "Order = 10\n",
      "AIC:  -168.3212459256611\n",
      "BIC:  -158.56992859797754\n",
      "\n"
     ]
    }
   ],
   "source": [
    "for i in [1,2,3,4,5,6,7,8,9,10]:\n",
    "    model = VAR(train)\n",
    "    results = model.fit(i)\n",
    "    print('Order =', i)\n",
    "    print('AIC: ', results.aic)\n",
    "    print('BIC: ', results.bic)\n",
    "    print()"
   ]
  },
  {
   "cell_type": "code",
   "execution_count": 49,
   "id": "67db2363",
   "metadata": {},
   "outputs": [],
   "source": [
    "result = model.fit(4)\n",
    "# result.summary()"
   ]
  },
  {
   "cell_type": "code",
   "execution_count": 50,
   "id": "d4e941ee",
   "metadata": {},
   "outputs": [],
   "source": [
    "lagged_Values = train"
   ]
  },
  {
   "cell_type": "code",
   "execution_count": 51,
   "id": "dede10c6",
   "metadata": {},
   "outputs": [],
   "source": [
    "pred = result.forecast(y=lagged_Values, steps=24)"
   ]
  },
  {
   "cell_type": "code",
   "execution_count": 52,
   "id": "3053bd95",
   "metadata": {},
   "outputs": [],
   "source": [
    "idx = pd.date_range('2020-1-01', periods=12, freq='MS')"
   ]
  },
  {
   "cell_type": "code",
   "execution_count": 53,
   "id": "0bc0ef54",
   "metadata": {},
   "outputs": [],
   "source": [
    "df_forecast=pd.DataFrame(data=pred[0:12], index=idx, columns=['precip','ndvi','smos','temp','prod'])"
   ]
  },
  {
   "cell_type": "code",
   "execution_count": 54,
   "id": "3b239dd2",
   "metadata": {},
   "outputs": [
    {
     "data": {
      "text/plain": [
       "2020-01-01    201882.168712\n",
       "2020-02-01    206868.409562\n",
       "2020-03-01    234074.602563\n",
       "2020-04-01    272965.789256\n",
       "2020-05-01    292729.705909\n",
       "2020-06-01    310986.463784\n",
       "2020-07-01    314017.748781\n",
       "2020-08-01    308465.985351\n",
       "2020-09-01    303769.352612\n",
       "2020-10-01    288861.756461\n",
       "2020-11-01    271790.327276\n",
       "2020-12-01    251450.353206\n",
       "Freq: MS, Name: prod, dtype: float64"
      ]
     },
     "execution_count": 54,
     "metadata": {},
     "output_type": "execute_result"
    }
   ],
   "source": [
    "df_forecast['prod']"
   ]
  },
  {
   "cell_type": "code",
   "execution_count": 55,
   "id": "ad98d75a",
   "metadata": {},
   "outputs": [],
   "source": [
    "#new_df_93.tail(12)['prod']"
   ]
  },
  {
   "cell_type": "code",
   "execution_count": 56,
   "id": "86d89cbc",
   "metadata": {},
   "outputs": [
    {
     "data": {
      "text/html": [
       "<div>\n",
       "<style scoped>\n",
       "    .dataframe tbody tr th:only-of-type {\n",
       "        vertical-align: middle;\n",
       "    }\n",
       "\n",
       "    .dataframe tbody tr th {\n",
       "        vertical-align: top;\n",
       "    }\n",
       "\n",
       "    .dataframe thead th {\n",
       "        text-align: right;\n",
       "    }\n",
       "</style>\n",
       "<table border=\"1\" class=\"dataframe\">\n",
       "  <thead>\n",
       "    <tr style=\"text-align: right;\">\n",
       "      <th></th>\n",
       "      <th>end_date</th>\n",
       "      <th>prod</th>\n",
       "      <th>region_id</th>\n",
       "    </tr>\n",
       "  </thead>\n",
       "  <tbody>\n",
       "    <tr>\n",
       "      <th>60</th>\n",
       "      <td>2020-01-31</td>\n",
       "      <td>184890</td>\n",
       "      <td>93</td>\n",
       "    </tr>\n",
       "    <tr>\n",
       "      <th>61</th>\n",
       "      <td>2020-02-29</td>\n",
       "      <td>228046</td>\n",
       "      <td>93</td>\n",
       "    </tr>\n",
       "    <tr>\n",
       "      <th>62</th>\n",
       "      <td>2020-03-31</td>\n",
       "      <td>242595</td>\n",
       "      <td>93</td>\n",
       "    </tr>\n",
       "    <tr>\n",
       "      <th>63</th>\n",
       "      <td>2020-04-30</td>\n",
       "      <td>274686</td>\n",
       "      <td>93</td>\n",
       "    </tr>\n",
       "    <tr>\n",
       "      <th>64</th>\n",
       "      <td>2020-05-31</td>\n",
       "      <td>260507</td>\n",
       "      <td>93</td>\n",
       "    </tr>\n",
       "    <tr>\n",
       "      <th>65</th>\n",
       "      <td>2020-06-30</td>\n",
       "      <td>321550</td>\n",
       "      <td>93</td>\n",
       "    </tr>\n",
       "    <tr>\n",
       "      <th>66</th>\n",
       "      <td>2020-07-31</td>\n",
       "      <td>303763</td>\n",
       "      <td>93</td>\n",
       "    </tr>\n",
       "    <tr>\n",
       "      <th>67</th>\n",
       "      <td>2020-08-31</td>\n",
       "      <td>301528</td>\n",
       "      <td>93</td>\n",
       "    </tr>\n",
       "    <tr>\n",
       "      <th>68</th>\n",
       "      <td>2020-09-30</td>\n",
       "      <td>302692</td>\n",
       "      <td>93</td>\n",
       "    </tr>\n",
       "    <tr>\n",
       "      <th>69</th>\n",
       "      <td>2020-10-31</td>\n",
       "      <td>273522</td>\n",
       "      <td>93</td>\n",
       "    </tr>\n",
       "    <tr>\n",
       "      <th>70</th>\n",
       "      <td>2020-11-30</td>\n",
       "      <td>246388</td>\n",
       "      <td>93</td>\n",
       "    </tr>\n",
       "    <tr>\n",
       "      <th>71</th>\n",
       "      <td>2020-12-31</td>\n",
       "      <td>217480</td>\n",
       "      <td>93</td>\n",
       "    </tr>\n",
       "  </tbody>\n",
       "</table>\n",
       "</div>"
      ],
      "text/plain": [
       "     end_date    prod  region_id\n",
       "60 2020-01-31  184890         93\n",
       "61 2020-02-29  228046         93\n",
       "62 2020-03-31  242595         93\n",
       "63 2020-04-30  274686         93\n",
       "64 2020-05-31  260507         93\n",
       "65 2020-06-30  321550         93\n",
       "66 2020-07-31  303763         93\n",
       "67 2020-08-31  301528         93\n",
       "68 2020-09-30  302692         93\n",
       "69 2020-10-31  273522         93\n",
       "70 2020-11-30  246388         93\n",
       "71 2020-12-31  217480         93"
      ]
     },
     "execution_count": 56,
     "metadata": {},
     "output_type": "execute_result"
    }
   ],
   "source": [
    "Prod_Quant.iloc[60:72,]"
   ]
  },
  {
   "cell_type": "code",
   "execution_count": 57,
   "id": "0c1fe772",
   "metadata": {},
   "outputs": [
    {
     "data": {
      "text/html": [
       "<div>\n",
       "<style scoped>\n",
       "    .dataframe tbody tr th:only-of-type {\n",
       "        vertical-align: middle;\n",
       "    }\n",
       "\n",
       "    .dataframe tbody tr th {\n",
       "        vertical-align: top;\n",
       "    }\n",
       "\n",
       "    .dataframe thead th {\n",
       "        text-align: right;\n",
       "    }\n",
       "</style>\n",
       "<table border=\"1\" class=\"dataframe\">\n",
       "  <thead>\n",
       "    <tr style=\"text-align: right;\">\n",
       "      <th></th>\n",
       "      <th>precip</th>\n",
       "      <th>ndvi</th>\n",
       "      <th>smos</th>\n",
       "      <th>temp</th>\n",
       "      <th>prod</th>\n",
       "    </tr>\n",
       "  </thead>\n",
       "  <tbody>\n",
       "    <tr>\n",
       "      <th>2020-01-01</th>\n",
       "      <td>6.217722</td>\n",
       "      <td>0.850714</td>\n",
       "      <td>0.351200</td>\n",
       "      <td>27.302265</td>\n",
       "      <td>201882.168712</td>\n",
       "    </tr>\n",
       "    <tr>\n",
       "      <th>2020-02-01</th>\n",
       "      <td>6.035725</td>\n",
       "      <td>0.824569</td>\n",
       "      <td>0.352595</td>\n",
       "      <td>28.117769</td>\n",
       "      <td>206868.409562</td>\n",
       "    </tr>\n",
       "    <tr>\n",
       "      <th>2020-03-01</th>\n",
       "      <td>5.147593</td>\n",
       "      <td>0.841365</td>\n",
       "      <td>0.318202</td>\n",
       "      <td>30.158297</td>\n",
       "      <td>234074.602563</td>\n",
       "    </tr>\n",
       "    <tr>\n",
       "      <th>2020-04-01</th>\n",
       "      <td>6.362057</td>\n",
       "      <td>0.812697</td>\n",
       "      <td>0.321919</td>\n",
       "      <td>30.001172</td>\n",
       "      <td>272965.789256</td>\n",
       "    </tr>\n",
       "    <tr>\n",
       "      <th>2020-05-01</th>\n",
       "      <td>7.335307</td>\n",
       "      <td>0.830898</td>\n",
       "      <td>0.316494</td>\n",
       "      <td>30.165856</td>\n",
       "      <td>292729.705909</td>\n",
       "    </tr>\n",
       "    <tr>\n",
       "      <th>2020-06-01</th>\n",
       "      <td>7.035983</td>\n",
       "      <td>0.829224</td>\n",
       "      <td>0.347606</td>\n",
       "      <td>28.880491</td>\n",
       "      <td>310986.463784</td>\n",
       "    </tr>\n",
       "    <tr>\n",
       "      <th>2020-07-01</th>\n",
       "      <td>6.981286</td>\n",
       "      <td>0.837259</td>\n",
       "      <td>0.358112</td>\n",
       "      <td>28.610281</td>\n",
       "      <td>314017.748781</td>\n",
       "    </tr>\n",
       "    <tr>\n",
       "      <th>2020-08-01</th>\n",
       "      <td>6.200317</td>\n",
       "      <td>0.811998</td>\n",
       "      <td>0.361660</td>\n",
       "      <td>28.430230</td>\n",
       "      <td>308465.985351</td>\n",
       "    </tr>\n",
       "    <tr>\n",
       "      <th>2020-09-01</th>\n",
       "      <td>6.593780</td>\n",
       "      <td>0.807882</td>\n",
       "      <td>0.352155</td>\n",
       "      <td>29.022165</td>\n",
       "      <td>303769.352612</td>\n",
       "    </tr>\n",
       "    <tr>\n",
       "      <th>2020-10-01</th>\n",
       "      <td>7.936992</td>\n",
       "      <td>0.795563</td>\n",
       "      <td>0.357913</td>\n",
       "      <td>29.109587</td>\n",
       "      <td>288861.756461</td>\n",
       "    </tr>\n",
       "    <tr>\n",
       "      <th>2020-11-01</th>\n",
       "      <td>8.197437</td>\n",
       "      <td>0.804617</td>\n",
       "      <td>0.363334</td>\n",
       "      <td>28.976326</td>\n",
       "      <td>271790.327276</td>\n",
       "    </tr>\n",
       "    <tr>\n",
       "      <th>2020-12-01</th>\n",
       "      <td>7.953129</td>\n",
       "      <td>0.806285</td>\n",
       "      <td>0.370998</td>\n",
       "      <td>28.455272</td>\n",
       "      <td>251450.353206</td>\n",
       "    </tr>\n",
       "  </tbody>\n",
       "</table>\n",
       "</div>"
      ],
      "text/plain": [
       "              precip      ndvi      smos       temp           prod\n",
       "2020-01-01  6.217722  0.850714  0.351200  27.302265  201882.168712\n",
       "2020-02-01  6.035725  0.824569  0.352595  28.117769  206868.409562\n",
       "2020-03-01  5.147593  0.841365  0.318202  30.158297  234074.602563\n",
       "2020-04-01  6.362057  0.812697  0.321919  30.001172  272965.789256\n",
       "2020-05-01  7.335307  0.830898  0.316494  30.165856  292729.705909\n",
       "2020-06-01  7.035983  0.829224  0.347606  28.880491  310986.463784\n",
       "2020-07-01  6.981286  0.837259  0.358112  28.610281  314017.748781\n",
       "2020-08-01  6.200317  0.811998  0.361660  28.430230  308465.985351\n",
       "2020-09-01  6.593780  0.807882  0.352155  29.022165  303769.352612\n",
       "2020-10-01  7.936992  0.795563  0.357913  29.109587  288861.756461\n",
       "2020-11-01  8.197437  0.804617  0.363334  28.976326  271790.327276\n",
       "2020-12-01  7.953129  0.806285  0.370998  28.455272  251450.353206"
      ]
     },
     "execution_count": 57,
     "metadata": {},
     "output_type": "execute_result"
    }
   ],
   "source": [
    "df_forecast"
   ]
  },
  {
   "cell_type": "code",
   "execution_count": 58,
   "id": "03c66a58",
   "metadata": {},
   "outputs": [],
   "source": [
    "def mape(actual, pred): \n",
    "    actual, pred = np.array(actual), np.array(pred)\n",
    "    return np.mean(np.abs((actual - pred) / actual)) * 100"
   ]
  },
  {
   "cell_type": "code",
   "execution_count": 59,
   "id": "07a902b1",
   "metadata": {},
   "outputs": [
    {
     "data": {
      "text/plain": [
       "6.3200586850684095"
      ]
     },
     "execution_count": 59,
     "metadata": {},
     "output_type": "execute_result"
    }
   ],
   "source": [
    "actual = Prod_Quant.iloc[60:72,]['prod']\n",
    "pred = df_forecast['prod']\n",
    "mape(actual, pred)\n"
   ]
  },
  {
   "cell_type": "code",
   "execution_count": 60,
   "id": "5db8d360",
   "metadata": {},
   "outputs": [],
   "source": [
    "temp = Prod_Quant.iloc[60:72,].set_index('end_date')"
   ]
  },
  {
   "cell_type": "code",
   "execution_count": 61,
   "id": "7e60a54d",
   "metadata": {},
   "outputs": [],
   "source": [
    "temp = temp['prod']"
   ]
  },
  {
   "cell_type": "code",
   "execution_count": 62,
   "id": "a508ed3c",
   "metadata": {},
   "outputs": [
    {
     "data": {
      "text/plain": [
       "0.7754648675058181"
      ]
     },
     "execution_count": 62,
     "metadata": {},
     "output_type": "execute_result"
    }
   ],
   "source": [
    "r2_score(Prod_Quant.iloc[60:72,]['prod'].values, df_forecast['prod'].values)"
   ]
  },
  {
   "cell_type": "markdown",
   "id": "0126f428",
   "metadata": {},
   "source": [
    "# R2 = 0.7754648675058181\n",
    "# MAPE = 6.3200586850684095"
   ]
  },
  {
   "cell_type": "code",
   "execution_count": 63,
   "id": "9317b38b",
   "metadata": {},
   "outputs": [
    {
     "data": {
      "text/plain": [
       "<AxesSubplot:xlabel='end_date'>"
      ]
     },
     "execution_count": 63,
     "metadata": {},
     "output_type": "execute_result"
    },
    {
     "data": {
      "image/png": "[encoded data removed]",
      "text/plain": [
       "<Figure size 432x288 with 1 Axes>"
      ]
     },
     "metadata": {
      "needs_background": "light"
     },
     "output_type": "display_data"
    }
   ],
   "source": [
    "ax = temp.plot()\n",
    "df_forecast['prod'].plot(ax=ax)"
   ]
  },
  {
   "cell_type": "code",
   "execution_count": 64,
   "id": "edba76f7",
   "metadata": {},
   "outputs": [],
   "source": [
    "Prod_Quant_pred = pd.read_csv('predicted_production_qty.csv')"
   ]
  },
  {
   "cell_type": "code",
   "execution_count": 65,
   "id": "14621807",
   "metadata": {},
   "outputs": [
    {
     "data": {
      "text/html": [
       "<div>\n",
       "<style scoped>\n",
       "    .dataframe tbody tr th:only-of-type {\n",
       "        vertical-align: middle;\n",
       "    }\n",
       "\n",
       "    .dataframe tbody tr th {\n",
       "        vertical-align: top;\n",
       "    }\n",
       "\n",
       "    .dataframe thead th {\n",
       "        text-align: right;\n",
       "    }\n",
       "</style>\n",
       "<table border=\"1\" class=\"dataframe\">\n",
       "  <thead>\n",
       "    <tr style=\"text-align: right;\">\n",
       "      <th></th>\n",
       "      <th>start_date</th>\n",
       "      <th>end_date</th>\n",
       "      <th>prod</th>\n",
       "      <th>region_id</th>\n",
       "    </tr>\n",
       "  </thead>\n",
       "  <tbody>\n",
       "    <tr>\n",
       "      <th>12</th>\n",
       "      <td>2021-01-01T00:00:00.000Z</td>\n",
       "      <td>2021-01-31T00:00:00.000Z</td>\n",
       "      <td>NaN</td>\n",
       "      <td>94</td>\n",
       "    </tr>\n",
       "    <tr>\n",
       "      <th>13</th>\n",
       "      <td>2021-02-01T00:00:00.000Z</td>\n",
       "      <td>2021-02-28T00:00:00.000Z</td>\n",
       "      <td>NaN</td>\n",
       "      <td>94</td>\n",
       "    </tr>\n",
       "    <tr>\n",
       "      <th>14</th>\n",
       "      <td>2021-03-01T00:00:00.000Z</td>\n",
       "      <td>2021-03-31T00:00:00.000Z</td>\n",
       "      <td>NaN</td>\n",
       "      <td>94</td>\n",
       "    </tr>\n",
       "    <tr>\n",
       "      <th>15</th>\n",
       "      <td>2021-04-01T00:00:00.000Z</td>\n",
       "      <td>2021-04-30T00:00:00.000Z</td>\n",
       "      <td>NaN</td>\n",
       "      <td>94</td>\n",
       "    </tr>\n",
       "    <tr>\n",
       "      <th>16</th>\n",
       "      <td>2021-05-01T00:00:00.000Z</td>\n",
       "      <td>2021-05-31T00:00:00.000Z</td>\n",
       "      <td>NaN</td>\n",
       "      <td>94</td>\n",
       "    </tr>\n",
       "    <tr>\n",
       "      <th>17</th>\n",
       "      <td>2021-06-01T00:00:00.000Z</td>\n",
       "      <td>2021-06-30T00:00:00.000Z</td>\n",
       "      <td>NaN</td>\n",
       "      <td>94</td>\n",
       "    </tr>\n",
       "    <tr>\n",
       "      <th>18</th>\n",
       "      <td>2021-07-01T00:00:00.000Z</td>\n",
       "      <td>2021-07-31T00:00:00.000Z</td>\n",
       "      <td>NaN</td>\n",
       "      <td>94</td>\n",
       "    </tr>\n",
       "    <tr>\n",
       "      <th>19</th>\n",
       "      <td>2021-08-01T00:00:00.000Z</td>\n",
       "      <td>2021-08-31T00:00:00.000Z</td>\n",
       "      <td>NaN</td>\n",
       "      <td>94</td>\n",
       "    </tr>\n",
       "    <tr>\n",
       "      <th>20</th>\n",
       "      <td>2021-09-01T00:00:00.000Z</td>\n",
       "      <td>2021-09-30T00:00:00.000Z</td>\n",
       "      <td>NaN</td>\n",
       "      <td>94</td>\n",
       "    </tr>\n",
       "    <tr>\n",
       "      <th>21</th>\n",
       "      <td>2021-10-01T00:00:00.000Z</td>\n",
       "      <td>2021-10-31T00:00:00.000Z</td>\n",
       "      <td>NaN</td>\n",
       "      <td>94</td>\n",
       "    </tr>\n",
       "    <tr>\n",
       "      <th>22</th>\n",
       "      <td>2021-11-01T00:00:00.000Z</td>\n",
       "      <td>2021-11-30T00:00:00.000Z</td>\n",
       "      <td>NaN</td>\n",
       "      <td>94</td>\n",
       "    </tr>\n",
       "    <tr>\n",
       "      <th>23</th>\n",
       "      <td>2021-12-01T00:00:00.000Z</td>\n",
       "      <td>2021-12-31T00:00:00.000Z</td>\n",
       "      <td>NaN</td>\n",
       "      <td>94</td>\n",
       "    </tr>\n",
       "  </tbody>\n",
       "</table>\n",
       "</div>"
      ],
      "text/plain": [
       "                  start_date                  end_date  prod  region_id\n",
       "12  2021-01-01T00:00:00.000Z  2021-01-31T00:00:00.000Z   NaN         94\n",
       "13  2021-02-01T00:00:00.000Z  2021-02-28T00:00:00.000Z   NaN         94\n",
       "14  2021-03-01T00:00:00.000Z  2021-03-31T00:00:00.000Z   NaN         94\n",
       "15  2021-04-01T00:00:00.000Z  2021-04-30T00:00:00.000Z   NaN         94\n",
       "16  2021-05-01T00:00:00.000Z  2021-05-31T00:00:00.000Z   NaN         94\n",
       "17  2021-06-01T00:00:00.000Z  2021-06-30T00:00:00.000Z   NaN         94\n",
       "18  2021-07-01T00:00:00.000Z  2021-07-31T00:00:00.000Z   NaN         94\n",
       "19  2021-08-01T00:00:00.000Z  2021-08-31T00:00:00.000Z   NaN         94\n",
       "20  2021-09-01T00:00:00.000Z  2021-09-30T00:00:00.000Z   NaN         94\n",
       "21  2021-10-01T00:00:00.000Z  2021-10-31T00:00:00.000Z   NaN         94\n",
       "22  2021-11-01T00:00:00.000Z  2021-11-30T00:00:00.000Z   NaN         94\n",
       "23  2021-12-01T00:00:00.000Z  2021-12-31T00:00:00.000Z   NaN         94"
      ]
     },
     "execution_count": 65,
     "metadata": {},
     "output_type": "execute_result"
    }
   ],
   "source": [
    "Prod_Quant_pred[12:24]"
   ]
  },
  {
   "cell_type": "markdown",
   "id": "2b8e34dc",
   "metadata": {},
   "source": [
    "# Predicting Values for all regions for 2021_Jan to 2021_Dec"
   ]
  },
  {
   "cell_type": "code",
   "execution_count": 66,
   "id": "2d6d51f4",
   "metadata": {},
   "outputs": [],
   "source": [
    "a = [ 93,  94,  95,  97,  98,  99, 102, 103, 104, 105]"
   ]
  },
  {
   "cell_type": "code",
   "execution_count": 67,
   "id": "22f2c587",
   "metadata": {},
   "outputs": [],
   "source": [
    "k = 0\n",
    "for x in range(0, 10):\n",
    "    globals()['df%s' % a[x]] = new_df4[k:k+72]    \n",
    "    k += 72"
   ]
  },
  {
   "cell_type": "code",
   "execution_count": 68,
   "id": "e4c1189b",
   "metadata": {},
   "outputs": [
    {
     "name": "stdout",
     "output_type": "stream",
     "text": [
      "The mape and r2 for test data in the year 2020 and region_id 93 is\n",
      "6.3200586850684095 0.7754648675058181\n",
      "-----------------------------------------------------------------------------\n",
      "The mape and r2 for test data in the year 2020 and region_id 94 is\n",
      "35.20085970408015 -0.5909450440570341\n",
      "-----------------------------------------------------------------------------\n",
      "The mape and r2 for test data in the year 2020 and region_id 95 is\n",
      "16.312779165863006 0.6000915557496479\n",
      "-----------------------------------------------------------------------------\n",
      "The mape and r2 for test data in the year 2020 and region_id 97 is\n",
      "24.898135309446165 -0.6557251909194888\n",
      "-----------------------------------------------------------------------------\n",
      "The mape and r2 for test data in the year 2020 and region_id 98 is\n",
      "10.858263906241607 0.7386603493314344\n",
      "-----------------------------------------------------------------------------\n",
      "The mape and r2 for test data in the year 2020 and region_id 99 is\n",
      "9.615361330621587 0.523866701179073\n",
      "-----------------------------------------------------------------------------\n",
      "The mape and r2 for test data in the year 2020 and region_id 102 is\n",
      "10.902750476204025 0.08614292905665644\n",
      "-----------------------------------------------------------------------------\n",
      "The mape and r2 for test data in the year 2020 and region_id 103 is\n",
      "4.36254340299754 0.8759595043067305\n",
      "-----------------------------------------------------------------------------\n",
      "The mape and r2 for test data in the year 2020 and region_id 104 is\n",
      "14.60507037375577 0.10684159173994534\n",
      "-----------------------------------------------------------------------------\n",
      "The mape and r2 for test data in the year 2020 and region_id 105 is\n",
      "10.162228941269893 0.7285791408321651\n",
      "-----------------------------------------------------------------------------\n"
     ]
    }
   ],
   "source": [
    "k = 0\n",
    "for x in range(0,10):    \n",
    "    #allocate 72 values\n",
    "    temp_value = new_df4[k:k+72]\n",
    "    k+= 72\n",
    "    #region id droped and allocated to a variable\n",
    "    region_id = temp_value['region_id'].unique()\n",
    "    region_id = region_id[0]\n",
    "    temp_value = temp_value.drop(columns=['region_id'])\n",
    "    \n",
    "    #allocate array for VAR\n",
    "    X = temp_value.values\n",
    "    \n",
    "    #train test split\n",
    "    size = int(len(X) * 0.84)\n",
    "    train, test = X[0:size], X[size:len(X)]\n",
    "    \n",
    "    #modeling with order of 4\n",
    "    model = VAR(train)\n",
    "    result = model.fit(4)\n",
    "    lagged_Values = train\n",
    "    \n",
    "    #with 24 steps, future 24 months are predicted\n",
    "    pred = result.forecast(y=lagged_Values, steps=24)\n",
    "    idx = pd.date_range('2020-1-01', periods=12, freq='MS')\n",
    "    \n",
    "    #forecasted dataframe values\n",
    "    df_forecast=pd.DataFrame(data=pred[0:12], index=idx, columns=['precip','ndvi','smos','temp','prod'])\n",
    "    \n",
    "    def mape(actual, pred):\n",
    "        actual, pred = np.array(actual), np.array(pred)\n",
    "        return np.mean(np.abs((actual - pred) / actual)) * 100\n",
    "    \n",
    "    # pred and actual values for mape and r2 score\n",
    "    actual = Prod_Quant.iloc[k-12:k,]['prod']\n",
    "    pred = df_forecast['prod']\n",
    "    \n",
    "    mape =mape(actual, pred)\n",
    "    \n",
    "    temp2 = Prod_Quant.iloc[k-12:k,].set_index('end_date')    \n",
    "    r2 = r2_score(Prod_Quant.iloc[k-12:k,]['prod'].values, df_forecast['prod'].values)\n",
    "    print(\"The mape and r2 for test data in the year 2020 and region_id\", region_id, \"is\")    \n",
    "    print(mape,r2)\n",
    "    print(\"-----------------------------------------------------------------------------\")"
   ]
  },
  {
   "cell_type": "code",
   "execution_count": 69,
   "id": "070979a7",
   "metadata": {},
   "outputs": [],
   "source": [
    "value_for_2021 = []"
   ]
  },
  {
   "cell_type": "code",
   "execution_count": 70,
   "id": "c85e85b4",
   "metadata": {},
   "outputs": [
    {
     "name": "stdout",
     "output_type": "stream",
     "text": [
      "              precip      ndvi      smos       temp           prod\n",
      "2021-01-01  6.775386  0.815403  0.364968  28.314536  238745.470754\n",
      "2021-02-01  6.006834  0.814997  0.354214  28.480725  236408.854960\n",
      "2021-03-01  5.875892  0.819153  0.339159  29.026634  242161.885467\n",
      "2021-04-01  6.233648  0.820182  0.332894  29.332804  253152.607558\n",
      "2021-05-01  6.663539  0.825104  0.332621  29.398591  264243.611173\n",
      "2021-06-01  6.688422  0.826121  0.338471  29.151294  273333.046937\n",
      "2021-07-01  6.514191  0.826671  0.342917  28.948050  280636.250659\n",
      "2021-08-01  6.433310  0.821938  0.345599  28.857099  285245.431475\n",
      "2021-09-01  6.593571  0.817548  0.345944  28.930398  287340.512883\n",
      "2021-10-01  6.996841  0.813081  0.348130  28.970316  285365.944871\n",
      "2021-11-01  7.290825  0.811997  0.351719  28.914013  279711.155860\n",
      "2021-12-01  7.312793  0.811816  0.355592  28.753707  271697.927078\n",
      "              precip      ndvi      smos       temp          prod\n",
      "2021-01-01  4.692696  0.779141  0.287517  27.777894  20490.742686\n",
      "2021-02-01  5.705079  0.760883  0.284577  28.320461  21138.049882\n",
      "2021-03-01  7.409599  0.751585  0.311911  28.448573  21607.734275\n",
      "2021-04-01  8.802444  0.758165  0.340068  28.032232  21274.237784\n",
      "2021-05-01  8.228928  0.775705  0.342079  27.467058  20663.961729\n",
      "2021-06-01  6.622416  0.788064  0.319428  27.298853  20425.258308\n",
      "2021-07-01  5.864719  0.783578  0.298030  27.591487  20768.555073\n",
      "2021-08-01  6.495135  0.770374  0.300286  28.005016  21427.775206\n",
      "2021-09-01  7.899357  0.761374  0.322309  28.107347  21690.919915\n",
      "2021-10-01  8.594063  0.764993  0.340758  27.821351  21364.932050\n",
      "2021-11-01  7.798936  0.776305  0.336821  27.485395  20840.506729\n",
      "2021-12-01  6.516854  0.782176  0.315428  27.450068  20621.830045\n",
      "              precip      ndvi      smos       temp          prod\n",
      "2021-01-01  4.765879  0.796224  0.253563  26.728227  23511.808285\n",
      "2021-02-01  4.501450  0.794995  0.245879  27.237899  24371.826377\n",
      "2021-03-01  5.103195  0.793359  0.237202  27.658255  25894.764018\n",
      "2021-04-01  6.469244  0.794244  0.234225  27.645057  27110.024298\n",
      "2021-05-01  7.255126  0.797259  0.240878  27.241499  27460.471859\n",
      "2021-06-01  7.138353  0.800260  0.248569  26.871054  27352.108920\n",
      "2021-07-01  6.804997  0.800679  0.252460  26.768997  27475.927868\n",
      "2021-08-01  6.555366  0.798437  0.253755  26.856953  27874.650198\n",
      "2021-09-01  6.592455  0.795849  0.252820  26.945776  28131.026578\n",
      "2021-10-01  6.765364  0.794585  0.252895  26.892293  27867.822858\n",
      "2021-11-01  6.602391  0.794633  0.255269  26.746196  27122.835846\n",
      "2021-12-01  6.158584  0.794929  0.256148  26.695051  26359.359098\n",
      "              precip      ndvi      smos       temp          prod\n",
      "2021-01-01  2.295829  0.811473  0.201670  29.074305  62332.149244\n",
      "2021-02-01  3.808952  0.802144  0.197479  29.825502  66407.939243\n",
      "2021-03-01  6.350574  0.802630  0.212407  29.774657  68419.234656\n",
      "2021-04-01  7.449149  0.809804  0.233920  28.908543  65050.259708\n",
      "2021-05-01  6.218549  0.814572  0.244639  28.051580  59008.921934\n",
      "2021-06-01  4.302892  0.812514  0.240189  27.891678  55453.721104\n",
      "2021-07-01  3.659656  0.805679  0.228173  28.479695  56771.115509\n",
      "2021-08-01  4.815348  0.801537  0.222826  29.121690  60817.066244\n",
      "2021-09-01  6.467168  0.804529  0.229116  29.148926  63302.387605\n",
      "2021-10-01  6.917003  0.810982  0.239685  28.609939  62018.754605\n",
      "2021-11-01  5.870141  0.814506  0.244142  28.069109  58823.214737\n",
      "2021-12-01  4.533475  0.811927  0.239341  28.041082  57169.812584\n",
      "              precip      ndvi      smos       temp           prod\n",
      "2021-01-01  4.896300  0.814408  0.201585  27.212320  221664.484216\n",
      "2021-02-01  5.113217  0.816578  0.186189  27.552771  225393.529473\n",
      "2021-03-01  5.432742  0.819349  0.177336  27.689735  232097.258406\n",
      "2021-04-01  5.841344  0.821120  0.177422  27.687744  239751.712071\n",
      "2021-05-01  6.291478  0.821159  0.181894  27.612570  246868.092735\n",
      "2021-06-01  6.636716  0.819415  0.189179  27.476736  251909.651053\n",
      "2021-07-01  6.738764  0.816826  0.195865  27.316008  253285.718428\n",
      "2021-08-01  6.708640  0.814878  0.201145  27.135114  250972.876046\n",
      "2021-09-01  6.507180  0.813918  0.204829  26.991982  246012.779002\n",
      "2021-10-01  6.205844  0.813707  0.205654  26.937164  240319.539121\n",
      "2021-11-01  5.918958  0.814012  0.203249  26.975635  235985.017614\n",
      "2021-12-01  5.740318  0.814565  0.198882  27.080922  233987.273248\n",
      "              precip      ndvi      smos       temp           prod\n",
      "2021-01-01  4.514396  0.813532  0.271475  27.703647  155233.067582\n",
      "2021-02-01  6.368177  0.809692  0.277069  27.849121  160285.438797\n",
      "2021-03-01  7.658436  0.811388  0.277444  27.550046  158425.849373\n",
      "2021-04-01  8.169987  0.814450  0.279457  27.153412  154531.659885\n",
      "2021-05-01  7.091997  0.815734  0.274534  26.890457  152461.184722\n",
      "2021-06-01  6.125590  0.815854  0.274037  26.845232  154090.646885\n",
      "2021-07-01  5.714333  0.812087  0.273784  27.193016  155915.158756\n",
      "2021-08-01  6.590329  0.808644  0.277127  27.405655  157029.127597\n",
      "2021-09-01  7.376949  0.809338  0.277691  27.306998  155336.069775\n",
      "2021-10-01  7.560242  0.812393  0.277567  27.083022  152880.454750\n",
      "2021-11-01  6.861375  0.814247  0.274248  26.953600  152092.122863\n",
      "2021-12-01  6.205357  0.814484  0.272804  26.950343  153957.445261\n",
      "              precip      ndvi      smos       temp           prod\n",
      "2021-01-01  5.716766  0.825022  0.248126  26.452736  402755.779896\n",
      "2021-02-01  5.884535  0.828213  0.240627  26.452131  397927.148647\n",
      "2021-03-01  5.990470  0.832918  0.231144  26.624763  407405.870027\n",
      "2021-04-01  6.277971  0.833948  0.224662  26.592596  421154.449476\n",
      "2021-05-01  6.387384  0.835452  0.218783  26.609902  436571.148487\n",
      "2021-06-01  6.791462  0.834243  0.220028  26.517828  452695.499534\n",
      "2021-07-01  6.728698  0.832849  0.222526  26.355750  457302.648549\n",
      "2021-08-01  6.697680  0.830274  0.228433  26.228910  458547.167132\n",
      "2021-09-01  6.466790  0.827400  0.234090  26.073218  449708.693471\n",
      "2021-10-01  6.244629  0.825484  0.237433  26.054269  440188.299687\n",
      "2021-11-01  6.099661  0.824071  0.238356  26.033768  428650.304857\n",
      "2021-12-01  5.958216  0.824591  0.235640  26.090402  419181.212174\n",
      "               precip      ndvi      smos       temp           prod\n",
      "2021-01-01  10.384810  0.818249  0.289530  25.897405  314653.242788\n",
      "2021-02-01  10.281091  0.819910  0.283235  26.053668  312932.377471\n",
      "2021-03-01   9.918080  0.822586  0.275431  26.223893  318338.974544\n",
      "2021-04-01   9.444184  0.824765  0.270607  26.322562  329714.181751\n",
      "2021-05-01   9.074362  0.825872  0.267622  26.349643  343636.444702\n",
      "2021-06-01   8.880931  0.825577  0.266774  26.301302  356263.302395\n",
      "2021-07-01   8.857290  0.824149  0.267918  26.215051  364724.095039\n",
      "2021-08-01   9.065600  0.822185  0.270314  26.094346  366829.834499\n",
      "2021-09-01   9.368609  0.820308  0.273377  25.969098  362234.736368\n",
      "2021-10-01   9.654413  0.818718  0.276250  25.869626  353045.904063\n",
      "2021-11-01   9.874320  0.817963  0.277557  25.822146  342220.333921\n",
      "2021-12-01   9.993587  0.818098  0.277092  25.829578  332812.504357\n",
      "              precip      ndvi      smos       temp          prod\n",
      "2021-01-01  5.966022  0.775871  0.331666  28.891798  40855.590694\n",
      "2021-02-01  5.498276  0.770446  0.322857  29.178661  42982.555381\n",
      "2021-03-01  6.116821  0.770840  0.313099  29.404976  44375.016942\n",
      "2021-04-01  7.383723  0.775537  0.313351  29.096741  45758.849307\n",
      "2021-05-01  7.830197  0.782860  0.311987  28.801880  45528.276485\n",
      "2021-06-01  7.485983  0.785643  0.316389  28.493323  45218.614418\n",
      "2021-07-01  6.693709  0.784234  0.317652  28.531191  44544.377748\n",
      "2021-08-01  6.621762  0.780539  0.321008  28.589606  44200.140145\n",
      "2021-09-01  7.045867  0.777085  0.322686  28.702365  43410.369267\n",
      "2021-10-01  7.731130  0.776099  0.325134  28.617438  42527.407921\n",
      "2021-11-01  7.871753  0.776952  0.325773  28.502896  41348.044052\n",
      "2021-12-01  7.425902  0.777616  0.325941  28.396287  40720.989895\n",
      "              precip      ndvi      smos       temp          prod\n",
      "2021-01-01  6.783702  0.789512  0.259245  26.366897  39892.534170\n",
      "2021-02-01  5.525798  0.791202  0.245578  26.597248  37774.979614\n",
      "2021-03-01  4.674895  0.792844  0.228249  26.964009  37620.063194\n",
      "2021-04-01  4.769626  0.795803  0.217363  27.354196  39073.046329\n",
      "2021-05-01  5.794279  0.800022  0.215236  27.623763  41474.264678\n",
      "2021-06-01  7.112973  0.803651  0.219426  27.641247  43894.172004\n",
      "2021-07-01  8.059415  0.805160  0.226430  27.437353  45722.054896\n",
      "2021-08-01  8.479150  0.804619  0.233279  27.153095  46815.686330\n",
      "2021-09-01  8.480860  0.802754  0.238810  26.913138  47117.061468\n",
      "2021-10-01  8.265238  0.800060  0.242745  26.754773  46624.185148\n",
      "2021-11-01  8.006816  0.797001  0.244424  26.656394  45504.133025\n",
      "2021-12-01  7.703560  0.794263  0.243453  26.596361  43964.029833\n"
     ]
    }
   ],
   "source": [
    "k = 0\n",
    "for x in range(0,10):    \n",
    "    #allocate 72 values\n",
    "    temp_value = new_df4[k:k+72]\n",
    "    k+= 72\n",
    "    #region id droped and allocated to a variable\n",
    "    region_id = temp_value['region_id'].unique()\n",
    "    region_id = region_id[0]\n",
    "    temp_value = temp_value.drop(columns=['region_id'])\n",
    "    \n",
    "    #allocate array for VAR\n",
    "    X = temp_value.values\n",
    "    \n",
    "    #train test split\n",
    "    size = int(len(X) * 0.84)\n",
    "    train, test = X[0:size], X[size:len(X)]\n",
    "    \n",
    "    #modeling with order of 4\n",
    "    model = VAR(train)\n",
    "    result = model.fit(4)\n",
    "    lagged_Values = train\n",
    "    \n",
    "    #with 24 steps, future 24 months are predicted\n",
    "    pred = result.forecast(y=lagged_Values, steps=24)\n",
    "    idx = pd.date_range('2021-1-01', periods=12, freq='MS')\n",
    "    \n",
    "    #forecasted dataframe values\n",
    "    df_forecast=pd.DataFrame(data=pred[12:24], index=idx, columns=['precip','ndvi','smos','temp','prod'])\n",
    "    print(df_forecast)\n",
    "    value_for_2021.append(df_forecast['prod'].values)"
   ]
  },
  {
   "cell_type": "code",
   "execution_count": null,
   "id": "0712140c",
   "metadata": {},
   "outputs": [],
   "source": []
  },
  {
   "cell_type": "code",
   "execution_count": 71,
   "id": "2e51c68a",
   "metadata": {},
   "outputs": [
    {
     "data": {
      "text/html": [
       "<div>\n",
       "<style scoped>\n",
       "    .dataframe tbody tr th:only-of-type {\n",
       "        vertical-align: middle;\n",
       "    }\n",
       "\n",
       "    .dataframe tbody tr th {\n",
       "        vertical-align: top;\n",
       "    }\n",
       "\n",
       "    .dataframe thead th {\n",
       "        text-align: right;\n",
       "    }\n",
       "</style>\n",
       "<table border=\"1\" class=\"dataframe\">\n",
       "  <thead>\n",
       "    <tr style=\"text-align: right;\">\n",
       "      <th></th>\n",
       "      <th>2021_Values</th>\n",
       "    </tr>\n",
       "  </thead>\n",
       "  <tbody>\n",
       "    <tr>\n",
       "      <th>0</th>\n",
       "      <td>238745.470754</td>\n",
       "    </tr>\n",
       "    <tr>\n",
       "      <th>1</th>\n",
       "      <td>236408.854960</td>\n",
       "    </tr>\n",
       "    <tr>\n",
       "      <th>2</th>\n",
       "      <td>242161.885467</td>\n",
       "    </tr>\n",
       "    <tr>\n",
       "      <th>3</th>\n",
       "      <td>253152.607558</td>\n",
       "    </tr>\n",
       "    <tr>\n",
       "      <th>4</th>\n",
       "      <td>264243.611173</td>\n",
       "    </tr>\n",
       "    <tr>\n",
       "      <th>...</th>\n",
       "      <td>...</td>\n",
       "    </tr>\n",
       "    <tr>\n",
       "      <th>115</th>\n",
       "      <td>46815.686330</td>\n",
       "    </tr>\n",
       "    <tr>\n",
       "      <th>116</th>\n",
       "      <td>47117.061468</td>\n",
       "    </tr>\n",
       "    <tr>\n",
       "      <th>117</th>\n",
       "      <td>46624.185148</td>\n",
       "    </tr>\n",
       "    <tr>\n",
       "      <th>118</th>\n",
       "      <td>45504.133025</td>\n",
       "    </tr>\n",
       "    <tr>\n",
       "      <th>119</th>\n",
       "      <td>43964.029833</td>\n",
       "    </tr>\n",
       "  </tbody>\n",
       "</table>\n",
       "<p>120 rows × 1 columns</p>\n",
       "</div>"
      ],
      "text/plain": [
       "       2021_Values\n",
       "0    238745.470754\n",
       "1    236408.854960\n",
       "2    242161.885467\n",
       "3    253152.607558\n",
       "4    264243.611173\n",
       "..             ...\n",
       "115   46815.686330\n",
       "116   47117.061468\n",
       "117   46624.185148\n",
       "118   45504.133025\n",
       "119   43964.029833\n",
       "\n",
       "[120 rows x 1 columns]"
      ]
     },
     "execution_count": 71,
     "metadata": {},
     "output_type": "execute_result"
    }
   ],
   "source": [
    "cols = ['2021_Values']\n",
    "lst = []\n",
    "for i in range(10):\n",
    "    for j in range(12):\n",
    "        lst.append(value_for_2021[i][j])\n",
    "df1 = pd.DataFrame(lst, columns=cols)\n",
    "df1"
   ]
  },
  {
   "cell_type": "code",
   "execution_count": 72,
   "id": "558f5bfb",
   "metadata": {},
   "outputs": [
    {
     "data": {
      "text/plain": [
       "238745.47075355647"
      ]
     },
     "execution_count": 72,
     "metadata": {},
     "output_type": "execute_result"
    }
   ],
   "source": [
    "df1.at[0,'2021_Values']"
   ]
  },
  {
   "cell_type": "code",
   "execution_count": 73,
   "id": "9d8595a5",
   "metadata": {},
   "outputs": [],
   "source": [
    "Values_For_2021 = pd.read_csv('predicted_production_qty.csv')"
   ]
  },
  {
   "cell_type": "code",
   "execution_count": 74,
   "id": "da1db968",
   "metadata": {},
   "outputs": [],
   "source": [
    "#Values_For_2021['prod']"
   ]
  },
  {
   "cell_type": "code",
   "execution_count": 75,
   "id": "b3f52379",
   "metadata": {},
   "outputs": [],
   "source": [
    "#Values_For_2021['prod'][0] = 0"
   ]
  },
  {
   "cell_type": "code",
   "execution_count": 76,
   "id": "243a4c2f",
   "metadata": {},
   "outputs": [
    {
     "name": "stderr",
     "output_type": "stream",
     "text": [
      "<ipython-input-76-4fcd6a801800>:3: SettingWithCopyWarning: \n",
      "A value is trying to be set on a copy of a slice from a DataFrame\n",
      "\n",
      "See the caveats in the documentation: https://pandas.pydata.org/pandas-docs/stable/user_guide/indexing.html#returning-a-view-versus-a-copy\n",
      "  Values_For_2021['prod'][i] = df1.at[i,'2021_Values']\n"
     ]
    }
   ],
   "source": [
    "#Values_For_2021\n",
    "for i in range(120):\n",
    "    Values_For_2021['prod'][i] = df1.at[i,'2021_Values']"
   ]
  },
  {
   "cell_type": "code",
   "execution_count": 77,
   "id": "8cdcd435",
   "metadata": {},
   "outputs": [],
   "source": [
    "Values_For_2021 = Values_For_2021.set_index('start_date')"
   ]
  },
  {
   "cell_type": "code",
   "execution_count": 78,
   "id": "f216f9ac",
   "metadata": {},
   "outputs": [],
   "source": [
    "Values_For_2021.to_csv('kaivang2@illinois.edu.csv')"
   ]
  },
  {
   "cell_type": "code",
   "execution_count": null,
   "id": "287e9c4a",
   "metadata": {},
   "outputs": [],
   "source": []
  }
 ],
 "metadata": {
  "kernelspec": {
   "display_name": "Python 3",
   "language": "python",
   "name": "python3"
  },
  "language_info": {
   "codemirror_mode": {
    "name": "ipython",
    "version": 3
   },
   "file_extension": ".py",
   "mimetype": "text/x-python",
   "name": "python",
   "nbconvert_exporter": "python",
   "pygments_lexer": "ipython3",
   "version": "3.8.8"
  }
 },
 "nbformat": 4,
 "nbformat_minor": 5
}
